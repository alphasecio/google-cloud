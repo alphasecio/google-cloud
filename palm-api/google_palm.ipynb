{
  "nbformat": 4,
  "nbformat_minor": 0,
  "metadata": {
    "colab": {
      "provenance": []
    },
    "kernelspec": {
      "name": "python3",
      "display_name": "Python 3"
    },
    "language_info": {
      "name": "python"
    }
  },
  "cells": [
    {
      "cell_type": "markdown",
      "source": [
        "## **Palmfish**"
      ],
      "metadata": {
        "id": "iaFs2Fi3EQ4D"
      }
    },
    {
      "cell_type": "markdown",
      "source": [
        "### Authentication and Package Installation"
      ],
      "metadata": {
        "id": "GUe6PJnQE52J"
      }
    },
    {
      "cell_type": "code",
      "execution_count": null,
      "metadata": {
        "id": "t99Zc8eTEMmo"
      },
      "outputs": [],
      "source": [
        "# Install Streamlit and the latest AI Platform Python SDK\n",
        "!pip install streamlit\n",
        "!pip install --upgrade google-cloud-aiplatform"
      ]
    },
    {
      "cell_type": "code",
      "source": [
        "# Authenticate your Colab environment with your Google Cloud account\n",
        "from google.colab import auth\n",
        "auth.authenticate_user()"
      ],
      "metadata": {
        "id": "9PtbDi-yES4n"
      },
      "execution_count": 2,
      "outputs": []
    },
    {
      "cell_type": "markdown",
      "source": [
        "### Question Answering with PaLM API"
      ],
      "metadata": {
        "id": "S4yPKAg2GQ2J"
      }
    },
    {
      "cell_type": "code",
      "source": [
        "# Create a Streamlit app and save to a local file\n",
        "%%writefile app.py\n",
        "import vertexai, streamlit as st\n",
        "from vertexai.preview.language_models import TextGenerationModel\n",
        "\n",
        "# Initialize Vertex AI with the required variables\n",
        "PROJECT_ID = '' # @param {type:\"string\"}\n",
        "LOCATION = ''  # @param {type:\"string\"}\n",
        "vertexai.init(project=PROJECT_ID, location=LOCATION)\n",
        "\n",
        "# Streamlit app\n",
        "st.title('Palmfish')\n",
        "prompt = st.text_input(\"Your Query\")\n",
        "\n",
        "if st.button(\"Submit\"):\n",
        "    if not prompt.strip():\n",
        "        st.write(f\"Please submit your query.\")\n",
        "    else:\n",
        "        try:\n",
        "            model = TextGenerationModel.from_pretrained(\"text-bison@001\")\n",
        "            response = model.predict(\n",
        "                prompt,\n",
        "                temperature=0.1,\n",
        "                max_output_tokens=256\n",
        "            )\n",
        "\n",
        "            st.success(response)\n",
        "        except Exception as e:\n",
        "            st.error(f\"An error occurred: {e}\")"
      ],
      "metadata": {
        "id": "SO-YxLFMGjFZ"
      },
      "execution_count": null,
      "outputs": []
    },
    {
      "cell_type": "code",
      "source": [
        "# Install localtunnel to serve the Streamlit app\n",
        "!npm install localtunnel"
      ],
      "metadata": {
        "id": "Y-WPLlPHGnBy"
      },
      "execution_count": null,
      "outputs": []
    },
    {
      "cell_type": "code",
      "source": [
        "# Run the Streamlit app in the background\n",
        "!streamlit run app.py &>/content/logs.txt &"
      ],
      "metadata": {
        "id": "jfsIvVGGGpHu"
      },
      "execution_count": 13,
      "outputs": []
    },
    {
      "cell_type": "code",
      "source": [
        "# Expose the Streamlit app on port 8501\n",
        "!npx localtunnel --port 8501"
      ],
      "metadata": {
        "id": "3mrbYAtZGrSY"
      },
      "execution_count": null,
      "outputs": []
    },
    {
      "cell_type": "markdown",
      "source": [
        "### Text Summarization with PaLM API"
      ],
      "metadata": {
        "id": "hvOVYDdbLVPi"
      }
    },
    {
      "cell_type": "code",
      "source": [
        "# Create a Streamlit app and save to a local file\n",
        "%%writefile app.py\n",
        "import vertexai, streamlit as st\n",
        "from vertexai.preview.language_models import TextGenerationModel\n",
        "\n",
        "# Initialize Vertex AI with the required variables\n",
        "PROJECT_ID = '' # @param {type:\"string\"}\n",
        "LOCATION = ''  # @param {type:\"string\"}\n",
        "vertexai.init(project=PROJECT_ID, location=LOCATION)\n",
        "\n",
        "# Streamlit app\n",
        "st.title('Palmfish')\n",
        "source_text = st.text_area(\"Source Text\", height=200)\n",
        "prompt = 'Provide a summary within 250 words for the following article: \\n' + source_text + '\\nSummary: '\n",
        "\n",
        "if st.button(\"Summarize\"):\n",
        "    if not source_text.strip():\n",
        "        st.write(f\"Please provide the text to summarize.\")\n",
        "    else:\n",
        "        try:\n",
        "            model = TextGenerationModel.from_pretrained(\"text-bison@001\")\n",
        "            response = model.predict(\n",
        "                prompt,\n",
        "                temperature=0.2,\n",
        "                max_output_tokens=256,\n",
        "                top_k=40,\n",
        "                top_p=0.8,\n",
        "            )\n",
        "\n",
        "            st.success(response)\n",
        "        except Exception as e:\n",
        "            st.error(f\"An error occurred: {e}\")"
      ],
      "metadata": {
        "id": "fnm8Whl4LVPi"
      },
      "execution_count": null,
      "outputs": []
    },
    {
      "cell_type": "code",
      "source": [
        "# Install localtunnel to serve the Streamlit app\n",
        "!npm install localtunnel"
      ],
      "metadata": {
        "id": "OwqnF3RpLVPj"
      },
      "execution_count": null,
      "outputs": []
    },
    {
      "cell_type": "code",
      "source": [
        "# Run the Streamlit app in the background\n",
        "!streamlit run app.py &>/content/logs.txt &"
      ],
      "metadata": {
        "id": "q_nCROJBLVPk"
      },
      "execution_count": null,
      "outputs": []
    },
    {
      "cell_type": "code",
      "source": [
        "# Expose the Streamlit app on port 8501\n",
        "!npx localtunnel --port 8501"
      ],
      "metadata": {
        "id": "24IpJyphLVPk"
      },
      "execution_count": null,
      "outputs": []
    }
  ]
}
